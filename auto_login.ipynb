{
 "cells": [
  {
   "cell_type": "code",
   "execution_count": 5,
   "metadata": {},
   "outputs": [
    {
     "name": "stderr",
     "output_type": "stream",
     "text": [
      "/tmp/ipykernel_5502/774325124.py:6: DeprecationWarning: executable_path has been deprecated, please pass in a Service object\n",
      "  driver = webdriver.Chrome(executable_path=path)\n",
      "/tmp/ipykernel_5502/774325124.py:9: DeprecationWarning: find_element_by_* commands are deprecated. Please use find_element() instead\n",
      "  driver.find_element_by_id('email').send_keys('sk.enterprises1688@gmail.com')\n",
      "/tmp/ipykernel_5502/774325124.py:10: DeprecationWarning: find_element_by_* commands are deprecated. Please use find_element() instead\n",
      "  driver.find_element_by_id('password').send_keys('Meesho@123')\n",
      "/tmp/ipykernel_5502/774325124.py:11: DeprecationWarning: find_element_by_xpath is deprecated. Please use find_element(by=By.XPATH, value=xpath) instead\n",
      "  driver.find_element_by_xpath('//*[@id=\"root\"]/div/div[2]/form/div[3]/button').click()\n"
     ]
    }
   ],
   "source": [
    "from selenium import webdriver\n",
    "from time import sleep\n",
    "\n",
    "\n",
    "path = \"/home/nerd/Downloads/chromedriver\"\n",
    "driver = webdriver.Chrome(executable_path=path)\n",
    "\n",
    "driver.get('https://supplier.meesho.com/panel/v2/new/login?distinct_id=')\n",
    "driver.find_element_by_id('email').send_keys('your_email')\n",
    "driver.find_element_by_id('password').send_keys('pass_word')\n",
    "driver.find_element_by_xpath('//*[@id=\"root\"]/div/div[2]/form/div[3]/button').click()\n",
    "driver.get('https://supplier.meesho.com/panel/v2/new/z81oq/catalogs')"
   ]
  },
  {
   "cell_type": "code",
   "execution_count": 4,
   "metadata": {},
   "outputs": [],
   "source": [
    "driver.quit()"
   ]
  },
  {
   "cell_type": "code",
   "execution_count": null,
   "metadata": {},
   "outputs": [],
   "source": []
  }
 ],
 "metadata": {
  "interpreter": {
   "hash": "31f2aee4e71d21fbe5cf8b01ff0e069b9275f58929596ceb00d14d90e3e16cd6"
  },
  "kernelspec": {
   "display_name": "Python 3.8.10 64-bit",
   "language": "python",
   "name": "python3"
  },
  "language_info": {
   "codemirror_mode": {
    "name": "ipython",
    "version": 3
   },
   "file_extension": ".py",
   "mimetype": "text/x-python",
   "name": "python",
   "nbconvert_exporter": "python",
   "pygments_lexer": "ipython3",
   "version": "3.8.10"
  },
  "orig_nbformat": 4
 },
 "nbformat": 4,
 "nbformat_minor": 2
}
